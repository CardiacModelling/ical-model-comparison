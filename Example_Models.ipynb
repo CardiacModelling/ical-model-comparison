{
 "cells": [
  {
   "cell_type": "markdown",
   "metadata": {},
   "source": [
    "# Example Equations"
   ]
  },
  {
   "cell_type": "markdown",
   "metadata": {},
   "source": [
    "### McAllister 1975: A Hodgkin-Huxley Model"
   ]
  },
  {
   "cell_type": "markdown",
   "metadata": {},
   "source": [
    "\\begin{equation}\n",
    "\\label{eqn:mcallister}\n",
    "\\begin{aligned}\n",
    "& {I}_{{si}} = {g}_{{si}}\\cdot {d}\\cdot{f}\\cdot\\left({V}-{E}_{{si}}\\right)+{g}_{{si}_n}\\cdot{d1}\\cdot\\left({V}-{E}_{{si}}\\right) \n",
    "\\\\\n",
    "& {d1} = \\frac{1.0}{1.0+\\exp\\left(\\left(-0.15\\right)\\cdot\\left({V}+40.0\\right)\\right)} \n",
    "\\\\\n",
    "& \\alpha_{{d}} = \\frac{0.002\\cdot\\left({V}+40.0\\right)}{1.0-\\exp\\left(\\left(-0.1\\right)\\cdot\\left({V}+40.0\\right)\\right)}\n",
    "\\\\\n",
    "&\\beta_{{d}} = 0.02\\cdot\\exp\\left(\\left(-0.0888\\right)\\cdot\\left({V}+40.0\\right)\\right)\n",
    "\\\\\n",
    "&\\frac{{d}}{{d}{t}}{d} = \\alpha_{{d}}\\cdot\\left(1.0-{d}\\right)-\\beta_{{d}}\\cdot{d}\n",
    "\\\\\n",
    "&\\alpha_{{f}} = 0.000987\\cdot\\exp\\left(\\left(-0.04\\right)\\cdot\\left({V}+60.0\\right)\\right)\n",
    "\\\\\n",
    "&\\beta_{{f}} = \\frac{0.02}{\\exp\\left(\\left(-0.087\\right)\\cdot\\left({V}+26.0\\right)\\right)+1.0}\n",
    "\\\\\n",
    "&\\frac{d}{d{t}}{f} = \\alpha_{{f}}\\cdot\\left(1.0-{f}\\right)-\\beta_{{f}}\\cdot{f}\n",
    "\\end{aligned}\n",
    "\\end{equation}\n",
    "\n"
   ]
  },
  {
   "cell_type": "markdown",
   "metadata": {},
   "source": [
    " - ${I}_{{si}}$: Secondary inward current \n",
    " - ${g}_{{si}}$: Maximal conductance\n",
    " - ${E}_{{si}}$: Reversal potential\n",
    " - ${d}$: Voltage-dependent activation gate\n",
    " - ${f}$: Voltage-dependent inactivation gate \n",
    " - ${g}_{{si}_n}$: Maximal conductance of for fractional channels that do not inactivate\n",
    " - ${d}1$: Voltage-dependent function\n",
    " - $\\alpha_{{d}}$, $\\beta_{{d}}$, $\\alpha_{{f}}$ and $\\beta_{{f}}$ are voltage-dependent functions used for the evaluation of ${d}$ and ${f}$.\n"
   ]
  },
  {
   "cell_type": "markdown",
   "metadata": {},
   "source": [
    "### Faber 2007:  A Markov Model"
   ]
  },
  {
   "cell_type": "markdown",
   "metadata": {},
   "source": [
    "\\begin{equation}\n",
    "\\begin{aligned}\n",
    "\\label{eqn:faber}\n",
    "%\\begin{split}\n",
    "&\\frac{d}{d\\text{t}}{C}_{{0}} = \\beta_{{0}}\\cdot{C}_1+\\theta\\cdot{C}_{{0Ca}}-\\left(\\alpha_0+\\delta\\right)\\cdot{C}_0\n",
    "\\\\\n",
    "&\\frac{d}{d{t}}{C}_{{0Ca}} = \\beta_0\\cdot{C}_{{1Ca}}+\\delta\\cdot{C}_0-\\left(\\alpha_0+\\theta\\right)\\cdot{C}_{{0Ca}}\n",
    "\\\\\n",
    "&\\frac{d}{d{t}}{C}_{{1}} = \\alpha_0\\cdot{C}_0+\\beta_1\\cdot{C}_2+\\theta\\cdot{C}_{{1Ca}}-\\left(\\beta_0+\\alpha_1+\\delta\\right)\\cdot{C}_1\n",
    "\\\\\n",
    "&\\frac{d}{d{t}}{C}_{{1Ca}} = \\alpha_0\\cdot{C}_{{0Ca}}+\\beta_1\\cdot{C}_{{2Ca}}+\\delta\\cdot{C}_1-\\left(\\beta_0+\\alpha_1+\\theta\\right)\\cdot{C}_{{1Ca}}\n",
    "\\\\\n",
    "&\\frac{d}{d{t}}{C}_{{2}} = \\alpha_1\\cdot{C}_1+\\beta_2\\cdot{C}_3+\\theta\\cdot{C}_{{2Ca}}-\\left(\\beta_1+\\alpha_2+\\delta\\right)\\cdot{C}_2\n",
    "\\\\\n",
    "&\\frac{d}{d{t}}{C}_{{2Ca}} = \\alpha_1\\cdot{C}_{{1Ca}}+\\beta_2\\cdot{C}_{{3Ca}}+\\delta\\cdot{C}_2-\\left(\\beta_1+\\alpha_2+\\theta\\right)\\cdot{C}_{{2Ca}}\n",
    "\\\\\n",
    "&\\frac{d}{d{t}}{C}_{{3}} = \\alpha_2\\cdot{C}_2+\\beta_3\\cdot{O}+{I}_{{vf}}\\cdot\\omega_{{f}}+{I}_{{vs}}\\cdot\\omega_{{s}}+{C}_{{3Ca}}\\cdot\\theta-\\left(\\beta_2+\\alpha_3+\\gamma_{{f}}+\\gamma_{{s}}+\\delta\\right)\\cdot{C}_3\n",
    "\\\\\n",
    "&\\frac{d}{d{t}}{C}_{{3Ca}} = \\alpha_2\\cdot{C}_{{2Ca}}+\\beta_3\\cdot{I}_{{Ca}}+{I}_{{vfCa}}\\cdot\\omega_{{f}}+{I}_{{vsCa}}\\cdot\\omega_{{s}}+{C}_3\\cdot\\delta-\\left(\\beta_2+\\alpha_3+\\gamma_{{f}}+\\gamma_{{s}}+\\theta\\right)\\cdot{C}_{{3Ca}}\n",
    "\\\\\n",
    "&\\frac{d}{d{t}}{I}_{{Ca}} = \\alpha_3\\cdot{C}_{{3Ca}}+{I}_{{vfCa}}\\cdot\\lambda_{{f}}+\\lambda_{{s}}\\cdot{I}_{{vsCa}}+{O}\\cdot\\delta-\\left(\\beta_3+\\phi_{{f}}+\\phi_{{s}}+\\theta\\right)\\cdot{I}_{{Ca}}\n",
    "\\\\\n",
    "&\\frac{d}{d{t}}{I}_{{vf}} = \\gamma_{{f}}\\cdot{C}_3+\\phi_{{f}}\\cdot{O}+\\omega_{{sf}}\\cdot{I}_{{vs}}+{I}_{{vfCa}}\\cdot\\theta-\\left(\\omega_{{f}}+\\lambda_{{f}}+\\omega_{{fs}}+\\delta\\right)\\cdot{I}_{{vf}}\n",
    "\\\\\n",
    "&\\frac{d}{d{t}}{I}_{{vfCa}} = \\gamma_{{f}}\\cdot{C}_{{3Ca}}+\\phi_{{f}}\\cdot{I}_{{Ca}}+\\omega_{{sf}}\\cdot{I}_{{vsCa}}+{I}_{{vf}}\\cdot\\delta-\\left(\\omega_{{f}}+\\lambda_{{f}}+\\omega_{{fs}}+\\theta\\right)\\cdot{I}_{{vfCa}}\n",
    "\\\\\n",
    "&\\frac{d}{d{t}}{I}_{{vs}} = \\gamma_{{s}}\\cdot{C}_3+{O}\\cdot\\phi_{s}+\\omega_{{fs}}\\cdot{I}_{{vf}}+{I}_{{vsCa}}\\cdot\\theta-\\left(\\omega_{{s}}+\\lambda_{{s}}+\\omega_{{sf}}+\\delta\\right)\\cdot{I}_{{vs}}\n",
    "\\\\\n",
    "&\\frac{d}{d\\text{t}}{I}_{{vsCa}} = \\gamma_{{s}}\\cdot{C}_{{3Ca}}+{I}_{{Ca}}\\cdot\\phi_{{s}}+\\omega_{{fs}}\\cdot{I}_{{vfCa}}+{I}_{{vs}}\\cdot\\delta-\\left(\\omega_{{s}}+\\lambda_{{s}}+\\omega_{{sf}}+\\theta\\right)\\cdot{I}_{{vsCa}}\n",
    "\\\\\n",
    "&\\frac{d}{d{t}}{O} = \\alpha_3\\cdot{C}_3+\\lambda_{{f}}\\cdot{I}_{{vf}}+\\lambda_{{s}}\\cdot{I}_{{vs}}+{I}_{{Ca}}\\cdot\\theta-\\left(\\beta_3+\\phi_{{f}}+\\phi_{{s}}+\\delta\\right)\\cdot{O}\n",
    "\\\\\n",
    "&{I}_{{maxCa}} = \\frac{\\frac{\\frac{{P}_{{Ca}}\\cdot1.0}{1.0}\\cdot4.0\\cdot{V}\\cdot{F}^{2.0}}{{R}\\cdot{T}}\\cdot\\left(\\gamma_{{Cai}}\\cdot{Ca}_{{ss}}\\cdot\\exp\\left(\\frac{2.0\\cdot{V}\\cdot{F}}{{R}\\cdot{T}}\\right)-\\gamma_{{Cao}}\\cdot{Ca}_{{o}}\\right)}{\\exp\\left(\\frac{2.0\\cdot{V}\\cdot{F}}{{R}\\cdot{T}}\\right)-1.0}\n",
    "\\\\\n",
    "&{I}_{{maxK}} = \\frac{\\frac{\\frac{{P}_{{K}}\\cdot1.0}{1.0}\\cdot1.0\\cdot{V}\\cdot{F}^{2.0}}{{R}\\cdot{T}}\\cdot\\left(\\gamma_{{Ki}}\\cdot{K}_{\\text{ss}}\\cdot\\exp\\left(\\frac{1.0\\cdot{V}\\cdot{F}}{{R}\\cdot{T}}\\right)-\\gamma_{{Ko}}\\cdot{K}_{{o}}\\right)}{\\exp\\left(\\frac{1.0\\cdot{V}\\cdot{F}}{{R}\\cdot{T}}\\right)-1.0}\n",
    "\\\\\n",
    "&{I}_{{maxNa}} = \\frac{\\frac{\\frac{{P}_{{Na}}\\cdot1.0}{1.0}\\cdot1.0\\cdot{V}\\cdot{F}^{2.0}}{{R}\\cdot{T}}\\cdot\\left(\\gamma_{{Nai}}\\cdot{Na}_{{ss}}\\cdot\\exp\\left(\\frac{1.0\\cdot{V}\\cdot{F}}{{R}\\cdot{T}}\\right)-\\gamma_{{Nao}}\\cdot{Na}_{{o}}\\right)}{\\exp\\left(\\frac{1.0\\cdot{V}\\cdot{F}}{{R}\\cdot{T}}\\right)-1.0}\\\\\n",
    "& I_{Ca} = I_{maxCa} \\cdot O \\\\\n",
    "& I_{Ca,Na} = I_{maxNa} \\cdot O \\\\\n",
    "& I_{Ca,K} = I_{maxK} \\cdot O \n",
    "\\end{aligned}\n",
    "\\end{equation}"
   ]
  },
  {
   "cell_type": "markdown",
   "metadata": {},
   "source": [
    "- $I_{Ca}$, $I_{Ca,K}$, $I_{Ca,Na}$: $I_{CaL}$ carried by calcium, potassium and sodium ions respectively\n",
    "- $I_{maxCa}$, $I_{maxK}$, $I_{maxNa}$: Driving flux of $I_{CaL}$ carried by calcium, potassium and sodium ions respectively\n",
    "- $P_{Ca}$, $P_{K}$, $P_{Na}$: Permeability of $I_{CaL}$ channel to carried by calcium, potassium and sodium ions respectively\n",
    "\n",
    "- $C_{i}$, $C_{iCa}$, $I_{Ca}$, $I_{vf}$, $I_{vfCa}$, $I_{vs}$, $I_{vsCa}$ and $O$ are state variables of the MM.\n",
    "- $\\theta$ is an independent parameter while $\\delta$ is a calcium-dependent parameter.\n",
    "- $\\alpha _i$, $\\beta _i$, $\\gamma _i$, $\\phi _i$, $\\lambda _i$ and $\\omega _i$ are voltage-dependent parameters."
   ]
  }
 ],
 "metadata": {
  "kernelspec": {
   "display_name": "Python 3",
   "language": "python",
   "name": "python3"
  },
  "language_info": {
   "codemirror_mode": {
    "name": "ipython",
    "version": 3
   },
   "file_extension": ".py",
   "mimetype": "text/x-python",
   "name": "python",
   "nbconvert_exporter": "python",
   "pygments_lexer": "ipython3",
   "version": "3.7.9"
  }
 },
 "nbformat": 4,
 "nbformat_minor": 4
}
